{
 "cells": [
  {
   "cell_type": "code",
   "execution_count": 1,
   "metadata": {
    "collapsed": true
   },
   "outputs": [],
   "source": [
    "import pandas as pd\n",
    "import bokeh.plotting as bp\n",
    "from bokeh.sampledata import us_states"
   ]
  },
  {
   "cell_type": "code",
   "execution_count": 2,
   "metadata": {
    "collapsed": false
   },
   "outputs": [],
   "source": [
    "top = pd.read_csv('data/topcities.csv')\n",
    "top = top[top.abbrv != 'HI']\n",
    "top = top[top.abbrv != 'AK']"
   ]
  },
  {
   "cell_type": "code",
   "execution_count": 3,
   "metadata": {
    "collapsed": false
   },
   "outputs": [],
   "source": [
    "us_states = us_states.data.copy()\n",
    "\n",
    "\n",
    "del us_states[\"HI\"]\n",
    "del us_states[\"AK\"]\n",
    "\n",
    "state_xs = [us_states[code][\"lons\"] for code in us_states]\n",
    "state_ys = [us_states[code][\"lats\"] for code in us_states]\n",
    "\n",
    "\n",
    "bp.output_file(\"test.html\", title=\"Test Map\")\n",
    "\n",
    "TOOLS = 'box_zoom,box_select,resize,reset,hover'\n",
    "\n",
    "fig = bp.figure(title=\"Test Map\", toolbar_location=\"left\", tools=TOOLS,\n",
    "    plot_width=1100, plot_height=700+6)\n",
    "\n",
    "fig.patches(state_xs, state_ys, fill_alpha=0.0,\n",
    "    line_color=\"#884444\", line_width=2)\n",
    "\n",
    "p = fig.square(top[\"Longitude\"], top[\"Latitude\"], size= 2, color=\"black\")\n",
    "\n",
    "p.text(top[\"Longitude\"], top[\"Latitude\"], text=top[\"City\"], text_color=\"#333333\", \n",
    "       text_align=\"right\", text_font_size=\"6pt\")\n",
    "\n",
    "\n",
    "bp.show(fig)"
   ]
  },
  {
   "cell_type": "code",
   "execution_count": 4,
   "metadata": {
    "collapsed": false
   },
   "outputs": [
    {
     "ename": "NameError",
     "evalue": "name 'bokeh' is not defined",
     "output_type": "error",
     "traceback": [
      "\u001b[0;31m---------------------------------------------------------------------------\u001b[0m",
      "\u001b[0;31mNameError\u001b[0m                                 Traceback (most recent call last)",
      "\u001b[0;32m<ipython-input-4-b929abd8e044>\u001b[0m in \u001b[0;36m<module>\u001b[0;34m()\u001b[0m\n\u001b[0;32m----> 1\u001b[0;31m \u001b[0mprint\u001b[0m\u001b[0;34m(\u001b[0m\u001b[0mbokeh\u001b[0m\u001b[0;34m.\u001b[0m\u001b[0m__version__\u001b[0m\u001b[0;34m)\u001b[0m\u001b[0;34m\u001b[0m\u001b[0m\n\u001b[0m",
      "\u001b[0;31mNameError\u001b[0m: name 'bokeh' is not defined"
     ]
    }
   ],
   "source": []
  },
  {
   "cell_type": "code",
   "execution_count": null,
   "metadata": {
    "collapsed": true
   },
   "outputs": [],
   "source": []
  }
 ],
 "metadata": {
  "kernelspec": {
   "display_name": "Python 3",
   "language": "python",
   "name": "python3"
  },
  "language_info": {
   "codemirror_mode": {
    "name": "ipython",
    "version": 3
   },
   "file_extension": ".py",
   "mimetype": "text/x-python",
   "name": "python",
   "nbconvert_exporter": "python",
   "pygments_lexer": "ipython3",
   "version": "3.4.3"
  }
 },
 "nbformat": 4,
 "nbformat_minor": 0
}
